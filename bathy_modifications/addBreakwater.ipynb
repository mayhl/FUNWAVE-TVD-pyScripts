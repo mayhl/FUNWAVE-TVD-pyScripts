{
 "cells": [
  {
   "cell_type": "markdown",
   "metadata": {},
   "source": [
    "# Modules"
   ]
  },
  {
   "cell_type": "code",
   "execution_count": 1,
   "metadata": {},
   "outputs": [],
   "source": [
    "import numpy as np\n",
    "import matplotlib.pyplot as plt\n",
    "import matplotlib.colors as colors\n",
    "import matplotlib\n",
    "import cmocean\n",
    "\n",
    "from shapely.geometry import Polygon, Point\n",
    "import shapely "
   ]
  },
  {
   "cell_type": "markdown",
   "metadata": {},
   "source": [
    "# /Topography File Path and Grid Information"
   ]
  },
  {
   "cell_type": "code",
   "execution_count": 2,
   "metadata": {},
   "outputs": [],
   "source": [
    "bathyFilePath = 'testBathy.txt'\n",
    "\n",
    "# Origin point of grid\n",
    "x0 = 0\n",
    "y0 = 0\n",
    "\n",
    "# Grid Resolution\n",
    "dx = 0.5\n",
    "dy = 0.5\n",
    "\n",
    "# Maximum number of points to plot in a single direction \n",
    "maxLinearPlotPoints = 200"
   ]
  },
  {
   "cell_type": "markdown",
   "metadata": {},
   "source": [
    "# Plotting Functions"
   ]
  },
  {
   "cell_type": "code",
   "execution_count": 3,
   "metadata": {},
   "outputs": [],
   "source": [
    "font = {'family' : 'DejaVu Sans',\n",
    "    'weight' : 'normal',\n",
    "    'size'   : 14}\n",
    "\n",
    "matplotlib.rc('font', **font)\n",
    "\n",
    "# Code courtesy of Chris Williams, http://chris35wills.github.io/matplotlib_diverging_colorbar/\n",
    "class MidpointNormalize(colors.Normalize):\n",
    "    \"\"\"\n",
    "    Normalise the colorbar so that diverging bars work there way either side from a prescribed midpoint value)\n",
    "    e.g. im=ax1.imshow(array, norm=MidpointNormalize(midpoint=0.,vmin=-100, vmax=100))\n",
    "    \"\"\"\n",
    "    def __init__(self, vmin=None, vmax=None, midpoint=None, clip=False):\n",
    "        self.midpoint = midpoint\n",
    "        colors.Normalize.__init__(self, vmin, vmax, clip)\n",
    "\n",
    "    def __call__(self, value, clip=None):\n",
    "        # I'm ignoring masked values and all kinds of edge cases to make a\n",
    "        # simple example...\n",
    "        x, y = [self.vmin, self.midpoint, self.vmax], [0, 0.5, 1]\n",
    "        return np.ma.masked_array(np.interp(value, x, y), np.isnan(value))   \n",
    "      \n",
    "def pcolorAutoScale( ax ,x, y , data, cmap, vMin=None, vMax=None):\n",
    "    \n",
    "    if (vMax == None):    \n",
    "        vMax = np.max( data )\n",
    "    if (vMin == None):\n",
    "        vMin = np.min( data )\n",
    "\n",
    "    return ax.pcolor(x, y, data, cmap=cmap, vmin=vMin, vmax=vMax, norm=MidpointNormalize(midpoint=0,vmin=vMin, vmax=vMax) )\n",
    "\n",
    "\n",
    "def plotBathy( ax, x, y, z , stride=1):\n",
    "    \n",
    "    def getLength(s):\n",
    "        sMax = np.max(s)\n",
    "        sMin = np.min(s)\n",
    "        sL = sMax - sMin \n",
    "        return sL \n",
    "    \n",
    "    cmBathy = cmocean.cm.topo \n",
    "    cmBathyContour = cmocean.cm.matter\n",
    "\n",
    "    maxLen = 12\n",
    "    \n",
    "    xL = getLength(x)\n",
    "    yL = getLength(y) \n",
    "\n",
    "    cp = pcolorAutoScale(ax,x[::stride],y[::stride],z[::stride,::stride],cmBathy )\n",
    "    \n",
    "    if ( xL > yL ):\n",
    "        cb = fig.colorbar(cp , ax=ax, orientation='horizontal')\n",
    "    else:\n",
    "        cb = fig.colorbar(cp , ax=ax, orientation='vertical')\n",
    "        \n",
    "    cb.set_label('Topology/Bathymetry (m)')\n",
    "\n",
    "    ax.set_aspect('equal', 'box')\n",
    "    \n",
    "    CS = ax.contour(x , y, z, 10, cmap=cmBathyContour )\n",
    "    plt.clabel(CS, inline=1, fontsize=14)\n",
    "    \n",
    "    ax.set_xlabel( \"x (m)\")    \n",
    "    ax.set_ylabel( \"y (m)\")\n",
    "    "
   ]
  },
  {
   "cell_type": "markdown",
   "metadata": {},
   "source": [
    "# Loading data and building grid"
   ]
  },
  {
   "cell_type": "code",
   "execution_count": 4,
   "metadata": {},
   "outputs": [
    {
     "name": "stdout",
     "output_type": "stream",
     "text": [
      "Grid Dimensions: nGlob=90, mGlob=120, stride=1\n",
      "Plot Dimensions: nGlob=90, mGlob=120\n"
     ]
    },
    {
     "data": {
      "image/png": "[encoded data removed]",
      "text/plain": [
       "<Figure size 576x576 with 2 Axes>"
      ]
     },
     "metadata": {
      "needs_background": "light"
     },
     "output_type": "display_data"
    }
   ],
   "source": [
    "# Loading data\n",
    "funwaveBathy = np.loadtxt(bathyFilePath) \n",
    "\n",
    "# Reversing FUNWAVE sign change, easier to work with\n",
    "bathy = -funwaveBathy\n",
    "[nGlob, mGlob] = funwaveBathy.shape\n",
    "\n",
    "# Constructing equispaced grid  \n",
    "x = np.arange(0,mGlob)*dx + x0\n",
    "y = np.arange(0,nGlob)*dy + y0\n",
    "\n",
    "# Computing stride based on max linear plot size\n",
    "nMax = max(nGlob,mGlob)\n",
    "\n",
    "stride = int(nMax/maxLinearPlotPoints)\n",
    "if ( stride < 1 ): stride = 1\n",
    "    \n",
    "nGlobPlot = int( nGlob/stride )\n",
    "mGlobPlot = int( mGlob/stride )\n",
    "\n",
    "print( \"Grid Dimensions: nGlob=%d, mGlob=%d, stride=%d\" % (nGlob, mGlob, stride) )\n",
    "print( \"Plot Dimensions: nGlob=%d, mGlob=%d\" % (nGlobPlot,mGlobPlot) )\n",
    "\n",
    "# Plotting topography/bathymetry\n",
    "fig, ax = plt.subplots()\n",
    "fig.set_size_inches(8, 8)\n",
    "\n",
    "\n",
    "plotBathy( ax, x, y, bathy, stride )"
   ]
  },
  {
   "cell_type": "markdown",
   "metadata": {},
   "source": [
    "# Breakwater Functions"
   ]
  },
  {
   "cell_type": "code",
   "execution_count": 5,
   "metadata": {},
   "outputs": [],
   "source": [
    "\n",
    "def get1DBox( S, s0, L ):\n",
    "    return 1 - (np.abs(S-s0)/(L/2) < 1) \n",
    " \n",
    "def get1DTrap( S, s0, L ):\n",
    "\n",
    "    return np.minimum( np.abs(S-s0)/(L/2) , 1 )\n",
    "\n",
    "def getPrism( x0, y0, x, y, length, baseWidth, topWidth, height, angle, angleRot, bottomBathy ):\n",
    "\n",
    "    slopeAngle = np.arctan( height/((baseWidth-topWidth)/2)   )\n",
    "    projectedHeight = baseWidth/2*np.tan(slopeAngle)  \n",
    "    \n",
    "    [X,Y] = np.meshgrid(x,y)\n",
    "    \n",
    "    U = (X-x0)*np.cos(-angleRot) - (Y-y0)*np.sin(-angleRot)\n",
    "    V = (X-x0)*np.sin(-angleRot) + (Y-y0)*np.cos(-angleRot)\n",
    "\n",
    "    sol = projectedHeight*(1 - np.maximum(get1DTrap(U, 0, baseWidth) , get1DBox( V, 0, length ) ) )\n",
    "    \n",
    "    sol = np.minimum( sol , height  ) \n",
    "    \n",
    "    sol = np.maximum( sol , bottomBathy )\n",
    "     \n",
    "    return sol \n",
    "\n",
    "\n",
    "\n",
    "def getBaseShape( width , length, angleRot, x0, y0 ):\n",
    "    # Vertices of bottom of breakwater \n",
    "    vetrices = [\n",
    "        ( -width/2, -length/2 ),\n",
    "        (  width/2, -length/2 ),\n",
    "        (  width/2,  length/2 ),\n",
    "        ( -width/2,  length/2 )\n",
    "    ]\n",
    "\n",
    "    baseShape       = Polygon( vetrices )\n",
    "    rotShape        = shapely.affinity.rotate(baseShape, angleRot , origin='center', use_radians=True)\n",
    "    shiftedRotShape = shapely.affinity.translate(rotShape, xoff=x0, yoff=y0, zoff=0.0 )\n",
    "    \n",
    "    return shiftedRotShape\n",
    "\n",
    "def getBasePoints( shape , x , y ):\n",
    "    \n",
    "    idxs = [] \n",
    "    # Extracting indices or points in array\n",
    "    for j in range(len(y)):\n",
    "\n",
    "        for i in range(len(x)):\n",
    "\n",
    "            pt = Point( ( x[i] , y[j])  )\n",
    "\n",
    "            if shape.contains( pt ):\n",
    "                idxs.append( (j,i) )\n",
    "\n",
    "    # Converting from list of tuples indices, (j,i), to tuple \n",
    "    # of arrays, i.e, [ (j_0,i_0), (j_1,i_1), ..., (j_n,i_n) ] =>\n",
    "    #                 ( [j_0,j_1,...,j_n], [i_0,i_1,...,i_n] )\n",
    "    idxs = tuple(np.array(idxs).T)\n",
    "\n",
    "    return idxs\n",
    "\n",
    "def addBreakWater( breakwater, bathy ):\n",
    "    \n",
    "    x1 = breakwater['x1']\n",
    "    x2 = breakwater['x2']\n",
    "    y1 = breakwater['y1']\n",
    "    y2 = breakwater['y2']\n",
    "    \n",
    "    angle = np.arctan2( y2 - y1 , x2 - x1)\n",
    "    angleRot = angle - np.pi/2\n",
    "\n",
    "    baseWidth = breakwater['baseWidth'] \n",
    "    topWidth = breakwater['topWidth'] \n",
    "\n",
    "    length = ((x2-x1)**2 + (y2-y1)**2)**0.5\n",
    "    \n",
    "    x0 = x1 + np.cos(angle)*length/2\n",
    "    y0 = y1 + np.sin(angle)*length/2\n",
    "\n",
    "    baseShape = getBaseShape( baseWidth , length, angleRot, x0, y0  )\n",
    "    idxs = getBasePoints( baseShape , x , y )\n",
    "    \n",
    "    minDepth = np.min( bathy[idxs] )\n",
    "    \n",
    "    height = breakwater['heightAboveWater'] - minDepth\n",
    "    \n",
    "    if ( height > 0 ):\n",
    "\n",
    "        bottomBathy = np.zeros(bathy.shape)\n",
    "        bottomBathy[idxs] = bathy[idxs] - minDepth\n",
    "        \n",
    "        bathy[idxs] = minDepth\n",
    "        bathy += getPrism( x0, y0, x, y, length, baseWidth, topWidth, height, angle, angleRot, bottomBathy )"
   ]
  },
  {
   "cell_type": "markdown",
   "metadata": {},
   "source": [
    "# Adding breakwater to bathy "
   ]
  },
  {
   "cell_type": "code",
   "execution_count": 6,
   "metadata": {},
   "outputs": [
    {
     "data": {
      "image/png": "[encoded data removed]",
      "text/plain": [
       "<Figure size 720x720 with 4 Axes>"
      ]
     },
     "metadata": {
      "needs_background": "light"
     },
     "output_type": "display_data"
    }
   ],
   "source": [
    "breakWater1 = {\n",
    "    'x1'              : 40,\n",
    "    'y1'              :  5,\n",
    "    'x2'              : 45,\n",
    "    'y2'              : 25,\n",
    "    \"heightAboveWater\": -1,\n",
    "    \"baseWidth\"       : 4,\n",
    "    \"topWidth\"        : 2     \n",
    "}\n",
    "\n",
    "\n",
    "breakWaters = [ breakWater1 ]\n",
    "\n",
    "bathyBreakwaters = bathy.copy()\n",
    "\n",
    "for breakwater in breakWaters:\n",
    "    addBreakWater( breakwater, bathyBreakwaters )\n",
    "\n",
    "\n",
    "fig, axs = plt.subplots(1,2)\n",
    "\n",
    "fig.set_size_inches(10, 10)\n",
    "axs=axs.flatten()\n",
    "\n",
    "\n",
    "plotBathy( axs[0], x, y, bathy, stride )\n",
    "plotBathy( axs[1], x, y, bathyBreakwaters, stride )\n"
   ]
  },
  {
   "cell_type": "markdown",
   "metadata": {},
   "source": [
    "# Saving FUNWAVE Bathy File"
   ]
  },
  {
   "cell_type": "code",
   "execution_count": 10,
   "metadata": {},
   "outputs": [],
   "source": [
    "outputFilePath = 'bathyBreakwaters.txt'\n",
    "funwaveBathyBreakwaters= -bathyBreakwaters\n",
    "\n",
    "np.savetxt( outputFilePath, funwaveBathyBreakwaters)"
   ]
  }
 ],
 "metadata": {
  "kernelspec": {
   "display_name": "Python 3",
   "language": "python",
   "name": "python3"
  },
  "language_info": {
   "codemirror_mode": {
    "name": "ipython",
    "version": 3
   },
   "file_extension": ".py",
   "mimetype": "text/x-python",
   "name": "python",
   "nbconvert_exporter": "python",
   "pygments_lexer": "ipython3",
   "version": "3.8.2"
  }
 },
 "nbformat": 4,
 "nbformat_minor": 2
}
