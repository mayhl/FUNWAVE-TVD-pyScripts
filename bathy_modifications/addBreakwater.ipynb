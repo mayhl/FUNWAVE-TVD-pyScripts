{
 "cells": [
  {
   "cell_type": "code",
   "execution_count": 1,
   "metadata": {},
   "outputs": [],
   "source": [
    "import numpy as np\n",
    "import matplotlib.pyplot as plt"
   ]
  },
  {
   "cell_type": "code",
   "execution_count": null,
   "metadata": {},
   "outputs": [],
   "source": []
  },
  {
   "cell_type": "code",
   "execution_count": 2,
   "metadata": {},
   "outputs": [],
   "source": [
    "# Dummy code\n",
    "\n",
    "ratio = 6\n",
    "mGlob = 20*ratio\n",
    "nGlob = 15*ratio\n",
    "\n",
    "x0 = 0\n",
    "y0 = 0\n",
    "dx = 2/ratio\n",
    "dy = 2/ratio\n",
    "\n",
    "x = np.arange(0,mGlob)*dx + x0\n",
    "y = np.arange(0,nGlob)*dy + y0\n",
    "\n",
    "[X,Y] = np.meshgrid(x,y)\n",
    "\n",
    "\n",
    "\n",
    "\n",
    "\n",
    "\n",
    "\n",
    "x = np.arange(0,mGlob)*dx + x0\n",
    "y = np.arange(0,nGlob)*dy + y0\n",
    "\n",
    "[X,Y] = np.meshgrid(x,y)"
   ]
  },
  {
   "cell_type": "code",
   "execution_count": 3,
   "metadata": {},
   "outputs": [
    {
     "data": {
      "text/plain": [
       "<matplotlib.colorbar.Colorbar at 0x7fcd2c318070>"
      ]
     },
     "execution_count": 3,
     "metadata": {},
     "output_type": "execute_result"
    },
    {
     "data": {
      "image/png": "[encoded data removed]",
      "text/plain": [
       "<Figure size 432x288 with 2 Axes>"
      ]
     },
     "metadata": {
      "needs_background": "light"
     },
     "output_type": "display_data"
    }
   ],
   "source": [
    "\n",
    "bathy = 0.5*(20-X)\n",
    "\n",
    "bathy[bathy<-5] = -5\n",
    "bathy[bathy>4] = 4\n",
    "\n",
    "\n",
    "bathyFun = -bathy\n",
    "\n",
    "bathy = -bathyFun\n",
    "\n",
    "c = plt.pcolor(x,y,-bathyFun)\n",
    "\n",
    "plt.colorbar(c)\n",
    "\n"
   ]
  },
  {
   "cell_type": "code",
   "execution_count": null,
   "metadata": {},
   "outputs": [],
   "source": []
  },
  {
   "cell_type": "code",
   "execution_count": 18,
   "metadata": {},
   "outputs": [
    {
     "ename": "TypeError",
     "evalue": "getPrism() missing 1 required positional argument: 'bottomBathy'",
     "output_type": "error",
     "traceback": [
      "\u001b[0;31m---------------------------------------------------------------------------\u001b[0m",
      "\u001b[0;31mTypeError\u001b[0m                                 Traceback (most recent call last)",
      "\u001b[0;32m<ipython-input-18-061ea2557061>\u001b[0m in \u001b[0;36m<module>\u001b[0;34m\u001b[0m\n\u001b[1;32m     57\u001b[0m \u001b[0mfig\u001b[0m\u001b[0;34m,\u001b[0m \u001b[0max\u001b[0m \u001b[0;34m=\u001b[0m \u001b[0mplt\u001b[0m\u001b[0;34m.\u001b[0m\u001b[0msubplots\u001b[0m\u001b[0;34m(\u001b[0m\u001b[0;34m)\u001b[0m\u001b[0;34m\u001b[0m\u001b[0;34m\u001b[0m\u001b[0m\n\u001b[1;32m     58\u001b[0m \u001b[0;34m\u001b[0m\u001b[0m\n\u001b[0;32m---> 59\u001b[0;31m \u001b[0mc\u001b[0m \u001b[0;34m=\u001b[0m \u001b[0max\u001b[0m\u001b[0;34m.\u001b[0m\u001b[0mpcolor\u001b[0m\u001b[0;34m(\u001b[0m\u001b[0mX\u001b[0m\u001b[0;34m,\u001b[0m\u001b[0mY\u001b[0m\u001b[0;34m,\u001b[0m\u001b[0mgetPrism\u001b[0m\u001b[0;34m(\u001b[0m \u001b[0mx1\u001b[0m\u001b[0;34m,\u001b[0m \u001b[0my1\u001b[0m\u001b[0;34m,\u001b[0m \u001b[0mx2\u001b[0m\u001b[0;34m,\u001b[0m \u001b[0my2\u001b[0m\u001b[0;34m,\u001b[0m \u001b[0mbaseWidth\u001b[0m\u001b[0;34m,\u001b[0m \u001b[0mtopWidth\u001b[0m\u001b[0;34m,\u001b[0m \u001b[0mheight\u001b[0m \u001b[0;34m)\u001b[0m\u001b[0;34m)\u001b[0m\u001b[0;34m\u001b[0m\u001b[0;34m\u001b[0m\u001b[0m\n\u001b[0m\u001b[1;32m     60\u001b[0m \u001b[0mplt\u001b[0m\u001b[0;34m.\u001b[0m\u001b[0mcolorbar\u001b[0m\u001b[0;34m(\u001b[0m\u001b[0mc\u001b[0m\u001b[0;34m)\u001b[0m\u001b[0;34m\u001b[0m\u001b[0;34m\u001b[0m\u001b[0m\n\u001b[1;32m     61\u001b[0m \u001b[0;34m\u001b[0m\u001b[0m\n",
      "\u001b[0;31mTypeError\u001b[0m: getPrism() missing 1 required positional argument: 'bottomBathy'"
     ]
    },
    {
     "data": {
      "image/png": "[encoded data removed]",
      "text/plain": [
       "<Figure size 432x288 with 1 Axes>"
      ]
     },
     "metadata": {
      "needs_background": "light"
     },
     "output_type": "display_data"
    }
   ],
   "source": [
    "\n",
    "\n",
    "\n",
    "\n",
    "\n",
    "\n",
    "\n",
    "def get1DBox( S, s0, L ):\n",
    "\n",
    "    return 1 - (np.abs(S-s0)/(L/2) < 1) \n",
    " \n",
    "\n",
    "def get1DTrap( S, s0, L ):\n",
    "\n",
    "    return np.minimum( np.abs(S-s0)/(L/2) , 1 )\n",
    "\n",
    "\n",
    "def getPrism( x1, y1, x2, y2, baseWidth, topWidth, height, bottomBathy ):\n",
    "\n",
    "    slopeAngle = np.arctan( height/((baseWidth-topWidth)/2)   )\n",
    "    projectedHeight = baseWidth/2*np.tan(slopeAngle)  \n",
    "\n",
    "    length = ((x2-x1)**2 + (y2-y1)**2)**0.5\n",
    "\n",
    "    angle = np.arctan2( y2 - y1 , x2 - x1)\n",
    "    \n",
    "    x0 = x1 + np.cos(angle)*length/2\n",
    "    y0 = y1 + np.sin(angle)*length/2\n",
    "    \n",
    "    angleRot = angle - np.pi/2\n",
    "    U = (X-x0)*np.cos(-angleRot) - (Y-y0)*np.sin(-angleRot)\n",
    "    V = (X-x0)*np.sin(-angleRot) + (Y-y0)*np.cos(-angleRot)\n",
    "\n",
    "\n",
    "    sol = projectedHeight*(1 - np.maximum(get1DTrap(U, 0, baseWidth) , get1DBox( V, 0, length ) ) )\n",
    "    \n",
    "    sol = np.minimum( sol , height  ) \n",
    "    \n",
    "    sol = np.maximum( sol , bottomBathy )\n",
    "    \n",
    "    \n",
    "    return sol \n",
    "#sol = projectedHeight*(1 - np.maximum( get1DTrap(X, x0, baseWidth) , get1DTrap(Y, y0, length) ))\n",
    "\n",
    "\n",
    "\n",
    "\n",
    "\n",
    "\n",
    "\n",
    "\n",
    "x1 = 20\n",
    "y1 = 5\n",
    "\n",
    "x2 = 25\n",
    "y2 = 25\n",
    "\n",
    "\n",
    "\n",
    "\n",
    "\n",
    "\n",
    "\n",
    "fig, ax = plt.subplots()\n",
    "\n",
    "c = ax.pcolor(X,Y,getPrism( x1, y1, x2, y2, baseWidth, topWidth, height ))\n",
    "plt.colorbar(c)\n",
    "\n"
   ]
  },
  {
   "cell_type": "code",
   "execution_count": 5,
   "metadata": {},
   "outputs": [],
   "source": [
    "from shapely.geometry import Polygon, Point\n",
    "import shapely \n",
    "\n",
    "\n",
    "angle = np.arctan2( y2 - y1 , x2 - x1)\n",
    "angleRot = angle - np.pi/2\n",
    "\n",
    "width = baseWidth \n",
    "\n",
    "length = ((x2-x1)**2 + (y2-y1)**2)**0.5\n",
    "\n",
    "x0 = x1 + np.cos(angle)*length/2\n",
    "y0 = y1 + np.sin(angle)*length/2\n",
    "\n",
    "vetrices = [\n",
    "    ( -width/2, -length/2 ),\n",
    "    (  width/2, -length/2 ),\n",
    "    (  width/2,  length/2 ),\n",
    "    ( -width/2,  length/2 )\n",
    "]\n",
    "\n",
    "\n",
    "baseShape = Polygon( vetrices )\n",
    "\n",
    "rotShape = shapely.affinity.rotate(baseShape, angleRot , origin='center', use_radians=True)\n",
    "\n",
    "shape = shapely.affinity.translate(rotShape, xoff=x0, yoff=y0, zoff=0.0 )\n",
    "shape\n",
    "\n",
    "\n",
    "\n",
    "idxs = [] \n",
    "\n",
    "for j in range(nGlob):\n",
    "\n",
    "    for i in range(mGlob):\n",
    "        \n",
    "        pt = Point( ( x[i] , y[j])  )\n",
    "        \n",
    "        if shape.contains( pt ):\n",
    "            idxs.append( (j,i) )\n",
    "            \n",
    "\n",
    "\n",
    "idxs = tuple(np.array(idxs).T)\n"
   ]
  },
  {
   "cell_type": "code",
   "execution_count": 37,
   "metadata": {},
   "outputs": [
    {
     "data": {
      "image/png": "[encoded data removed]",
      "text/plain": [
       "<Figure size 720x216 with 4 Axes>"
      ]
     },
     "metadata": {
      "needs_background": "light"
     },
     "output_type": "display_data"
    }
   ],
   "source": [
    "\n",
    "bathy = - bathyFun\n",
    "\n",
    "minDepth = np.min( bathy[idxs] )\n",
    "\n",
    "baseWidth  = 4\n",
    "topWidth = 2\n",
    "heightAboveWater = -1\n",
    "\n",
    "height = heightAboveWater - minDepth\n",
    "\n",
    "bottomBathy = bathy*0\n",
    "bottomBathy[idxs] = bathy[idxs] - minDepth\n",
    "\n",
    "\n",
    "\n",
    "bathy[idxs] = minDepth\n",
    "\n",
    "bathy += getPrism( x1, y1, x2, y2, baseWidth, topWidth, height, bottomBathy )\n",
    "\n",
    "\n",
    "\n",
    "fig, axs = plt.subplots(1,2)\n",
    "\n",
    "fig.set_size_inches(10, 3)\n",
    "axs=axs.flatten()\n",
    "\n",
    "\n",
    "c = axs[0].pcolor(X,Y,-bathyFun)\n",
    "axs[0].set_aspect('equal', 'box')\n",
    "\n",
    "plt.colorbar(c,ax=axs[0])\n",
    "\n",
    "c = axs[1].pcolor(X,Y,bathy)\n",
    "axs[1].set_aspect('equal', 'box')\n",
    "plt.colorbar(c,ax=axs[1])\n",
    "\n",
    "fig.savefig('testBreakwater.png', dpi=200)\n"
   ]
  },
  {
   "cell_type": "code",
   "execution_count": null,
   "metadata": {},
   "outputs": [],
   "source": []
  },
  {
   "cell_type": "code",
   "execution_count": null,
   "metadata": {},
   "outputs": [],
   "source": []
  },
  {
   "cell_type": "code",
   "execution_count": null,
   "metadata": {},
   "outputs": [],
   "source": []
  }
 ],
 "metadata": {
  "kernelspec": {
   "display_name": "Python 3",
   "language": "python",
   "name": "python3"
  },
  "language_info": {
   "codemirror_mode": {
    "name": "ipython",
    "version": 3
   },
   "file_extension": ".py",
   "mimetype": "text/x-python",
   "name": "python",
   "nbconvert_exporter": "python",
   "pygments_lexer": "ipython3",
   "version": "3.8.2"
  }
 },
 "nbformat": 4,
 "nbformat_minor": 2
}
