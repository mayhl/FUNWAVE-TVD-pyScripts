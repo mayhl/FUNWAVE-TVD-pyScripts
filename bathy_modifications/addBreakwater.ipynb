{
 "cells": [
  {
   "cell_type": "markdown",
   "metadata": {},
   "source": [
    "# Modules"
   ]
  },
  {
   "cell_type": "code",
   "execution_count": 8,
   "metadata": {},
   "outputs": [],
   "source": [
    "import numpy as np\n",
    "import matplotlib.pyplot as plt\n",
    "import matplotlib.colors as colors\n",
    "import matplotlib\n",
    "import cmocean\n",
    "\n",
    "from shapely.geometry import Polygon, Point\n",
    "import shapely "
   ]
  },
  {
   "cell_type": "markdown",
   "metadata": {},
   "source": [
    "# Topography File Path and Grid Information"
   ]
  },
  {
   "cell_type": "code",
   "execution_count": 104,
   "metadata": {},
   "outputs": [],
   "source": [
    "bathyFilePath = 'testBathy.txt'\n",
    "\n",
    "# Origin point of grid\n",
    "x0 = 0\n",
    "y0 = 0\n",
    "\n",
    "# Grid Resolution\n",
    "dx = 0.1\n",
    "dy = 2\n",
    "\n",
    "# Maximum number of points to plot in a single direction \n",
    "maxLinearPlotPoints = 200"
   ]
  },
  {
   "cell_type": "markdown",
   "metadata": {},
   "source": [
    "# Plotting Functions"
   ]
  },
  {
   "cell_type": "code",
   "execution_count": 247,
   "metadata": {},
   "outputs": [],
   "source": [
    "font = {'family' : 'DejaVu Sans',\n",
    "    'weight' : 'normal',\n",
    "    'size'   : 14}\n",
    "\n",
    "matplotlib.rc('font', **font)\n",
    "\n",
    "# Code courtesy of Chris Williams, http://chris35wills.github.io/matplotlib_diverging_colorbar/\n",
    "class MidpointNormalize(colors.Normalize):\n",
    "    \"\"\"\n",
    "    Normalise the colorbar so that diverging bars work there way either side from a prescribed midpoint value)\n",
    "    e.g. im=ax1.imshow(array, norm=MidpointNormalize(midpoint=0.,vmin=-100, vmax=100))\n",
    "    \"\"\"\n",
    "    def __init__(self, vmin=None, vmax=None, midpoint=None, clip=False):\n",
    "        self.midpoint = midpoint\n",
    "        colors.Normalize.__init__(self, vmin, vmax, clip)\n",
    "\n",
    "    def __call__(self, value, clip=None):\n",
    "        # I'm ignoring masked values and all kinds of edge cases to make a\n",
    "        # simple example...\n",
    "        x, y = [self.vmin, self.midpoint, self.vmax], [0, 0.5, 1]\n",
    "        return np.ma.masked_array(np.interp(value, x, y), np.isnan(value))   \n",
    "      \n",
    "def pcolorAutoScale( ax ,x, y , data, cmap, vMin=None, vMax=None):\n",
    "    \n",
    "    if (vMax == None):    \n",
    "        vMax = np.max( data )\n",
    "    if (vMin == None):\n",
    "        vMin = np.min( data )\n",
    "\n",
    "    return ax.pcolor(x, y, data, cmap=cmap, vmin=vMin, vmax=vMax, norm=MidpointNormalize(midpoint=0,vmin=vMin, vmax=vMax) )\n",
    "\n",
    "\n",
    "def plotBathy( ax, x, y, z , stride=1):\n",
    "    \n",
    "    def getLength(s):\n",
    "        sMax = np.max(s)\n",
    "        sMin = np.min(s)\n",
    "        sL = sMax - sMin \n",
    "        return sL \n",
    "    \n",
    "    cmBathy = cmocean.cm.topo \n",
    "    cmBathyContour = cmocean.cm.matter\n",
    "\n",
    "    maxLen = 12\n",
    "    \n",
    "    xL = getLength(x)\n",
    "    yL = getLength(y) \n",
    "\n",
    "    cp = pcolorAutoScale(ax,x[::stride],y[::stride],z[::stride,::stride],cmBathy )\n",
    "    \n",
    "    if ( xL > yL ):\n",
    "        cb = fig.colorbar(cp , ax=ax, orientation='horizontal')\n",
    "    else:\n",
    "        cb = fig.colorbar(cp , ax=ax, orientation='vertical')\n",
    "        \n",
    "    cb.set_label('Topology/Bathymetry (m)')\n",
    "\n",
    "    ax.set_aspect('equal', 'box')\n",
    "    \n",
    "    #CS = ax.contour(x , y, z, 10, cmap=cmBathyContour )\n",
    "    #plt.clabel(CS, inline=1, fontsize=14)\n",
    "    \n",
    "    ax.set_xlabel( \"x (m)\")    \n",
    "    ax.set_ylabel( \"y (m)\")\n",
    "    "
   ]
  },
  {
   "cell_type": "markdown",
   "metadata": {},
   "source": [
    "# Simple Bathy Example"
   ]
  },
  {
   "cell_type": "code",
   "execution_count": 280,
   "metadata": {},
   "outputs": [
    {
     "name": "stdout",
     "output_type": "stream",
     "text": [
      "50.0\n",
      "50.0\n",
      "Grid Dimensions: nGlob=250, mGlob=250, stride=1\n",
      "Plot Dimensions: nGlob=250, mGlob=250\n"
     ]
    },
    {
     "data": {
      "image/png": "[encoded data removed]",
      "text/plain": [
       "<Figure size 576x576 with 2 Axes>"
      ]
     },
     "metadata": {
      "needs_background": "light"
     },
     "output_type": "display_data"
    }
   ],
   "source": [
    "\n",
    "rY = 1/5\n",
    "rX = 2\n",
    "dx = 0.1*rX\n",
    "dy = 1*rY\n",
    "\n",
    "nGlob = 50/rY\n",
    "mGlob = 2.5*200/rX\n",
    "\n",
    "print(dx*mGlob)\n",
    "print(dy*nGlob)\n",
    "\n",
    "# Constructing equispaced grid  \n",
    "x = np.arange(0,mGlob)*dx + x0\n",
    "y = np.arange(0,nGlob)*dy + y0\n",
    "\n",
    "# Computing stride based on max linear plot size\n",
    "nMax = max(nGlob,mGlob)\n",
    "stride = int(nMax/maxLinearPlotPoints)\n",
    "if ( stride < 1 ): stride = 1\n",
    "    \n",
    "nGlobPlot = int( nGlob/stride )\n",
    "mGlobPlot = int( mGlob/stride )\n",
    "    \n",
    "[X,Y] = np.meshgrid(x,y)\n",
    "\n",
    "bathy = 0.2*(25-X)\n",
    "\n",
    "print( \"Grid Dimensions: nGlob=%d, mGlob=%d, stride=%d\" % (nGlob, mGlob, stride) )\n",
    "print( \"Plot Dimensions: nGlob=%d, mGlob=%d\" % (nGlobPlot,mGlobPlot) )\n",
    "\n",
    "# Plotting topography/bathymetry\n",
    "fig, ax = plt.subplots()\n",
    "fig.set_size_inches(8, 8)\n",
    "\n",
    "\n",
    "plotBathy( ax, x, y, bathy, stride )"
   ]
  },
  {
   "cell_type": "markdown",
   "metadata": {},
   "source": [
    "# Loading data and building grid"
   ]
  },
  {
   "cell_type": "code",
   "execution_count": 203,
   "metadata": {},
   "outputs": [
    {
     "ename": "OSError",
     "evalue": "testBathy.txt not found.",
     "output_type": "error",
     "traceback": [
      "\u001b[0;31m---------------------------------------------------------------------------\u001b[0m",
      "\u001b[0;31mOSError\u001b[0m                                   Traceback (most recent call last)",
      "\u001b[0;32m<ipython-input-203-c947f4551b40>\u001b[0m in \u001b[0;36m<module>\u001b[0;34m\u001b[0m\n\u001b[1;32m      1\u001b[0m \u001b[0;31m# Loading data\u001b[0m\u001b[0;34m\u001b[0m\u001b[0;34m\u001b[0m\u001b[0;34m\u001b[0m\u001b[0m\n\u001b[0;32m----> 2\u001b[0;31m \u001b[0mfunwaveBathy\u001b[0m \u001b[0;34m=\u001b[0m \u001b[0mnp\u001b[0m\u001b[0;34m.\u001b[0m\u001b[0mloadtxt\u001b[0m\u001b[0;34m(\u001b[0m\u001b[0mbathyFilePath\u001b[0m\u001b[0;34m)\u001b[0m\u001b[0;34m\u001b[0m\u001b[0;34m\u001b[0m\u001b[0m\n\u001b[0m\u001b[1;32m      3\u001b[0m \u001b[0;34m\u001b[0m\u001b[0m\n\u001b[1;32m      4\u001b[0m \u001b[0;31m# Reversing FUNWAVE sign change, easier to work with\u001b[0m\u001b[0;34m\u001b[0m\u001b[0;34m\u001b[0m\u001b[0;34m\u001b[0m\u001b[0m\n\u001b[1;32m      5\u001b[0m \u001b[0mbathy\u001b[0m \u001b[0;34m=\u001b[0m \u001b[0;34m-\u001b[0m\u001b[0mfunwaveBathy\u001b[0m\u001b[0;34m\u001b[0m\u001b[0;34m\u001b[0m\u001b[0m\n",
      "\u001b[0;32m~/anaconda3/lib/python3.7/site-packages/numpy/lib/npyio.py\u001b[0m in \u001b[0;36mloadtxt\u001b[0;34m(fname, dtype, comments, delimiter, converters, skiprows, usecols, unpack, ndmin, encoding, max_rows)\u001b[0m\n\u001b[1;32m    966\u001b[0m             \u001b[0mfname\u001b[0m \u001b[0;34m=\u001b[0m \u001b[0mos_fspath\u001b[0m\u001b[0;34m(\u001b[0m\u001b[0mfname\u001b[0m\u001b[0;34m)\u001b[0m\u001b[0;34m\u001b[0m\u001b[0;34m\u001b[0m\u001b[0m\n\u001b[1;32m    967\u001b[0m         \u001b[0;32mif\u001b[0m \u001b[0m_is_string_like\u001b[0m\u001b[0;34m(\u001b[0m\u001b[0mfname\u001b[0m\u001b[0;34m)\u001b[0m\u001b[0;34m:\u001b[0m\u001b[0;34m\u001b[0m\u001b[0;34m\u001b[0m\u001b[0m\n\u001b[0;32m--> 968\u001b[0;31m             \u001b[0mfh\u001b[0m \u001b[0;34m=\u001b[0m \u001b[0mnp\u001b[0m\u001b[0;34m.\u001b[0m\u001b[0mlib\u001b[0m\u001b[0;34m.\u001b[0m\u001b[0m_datasource\u001b[0m\u001b[0;34m.\u001b[0m\u001b[0mopen\u001b[0m\u001b[0;34m(\u001b[0m\u001b[0mfname\u001b[0m\u001b[0;34m,\u001b[0m \u001b[0;34m'rt'\u001b[0m\u001b[0;34m,\u001b[0m \u001b[0mencoding\u001b[0m\u001b[0;34m=\u001b[0m\u001b[0mencoding\u001b[0m\u001b[0;34m)\u001b[0m\u001b[0;34m\u001b[0m\u001b[0;34m\u001b[0m\u001b[0m\n\u001b[0m\u001b[1;32m    969\u001b[0m             \u001b[0mfencoding\u001b[0m \u001b[0;34m=\u001b[0m \u001b[0mgetattr\u001b[0m\u001b[0;34m(\u001b[0m\u001b[0mfh\u001b[0m\u001b[0;34m,\u001b[0m \u001b[0;34m'encoding'\u001b[0m\u001b[0;34m,\u001b[0m \u001b[0;34m'latin1'\u001b[0m\u001b[0;34m)\u001b[0m\u001b[0;34m\u001b[0m\u001b[0;34m\u001b[0m\u001b[0m\n\u001b[1;32m    970\u001b[0m             \u001b[0mfh\u001b[0m \u001b[0;34m=\u001b[0m \u001b[0miter\u001b[0m\u001b[0;34m(\u001b[0m\u001b[0mfh\u001b[0m\u001b[0;34m)\u001b[0m\u001b[0;34m\u001b[0m\u001b[0;34m\u001b[0m\u001b[0m\n",
      "\u001b[0;32m~/anaconda3/lib/python3.7/site-packages/numpy/lib/_datasource.py\u001b[0m in \u001b[0;36mopen\u001b[0;34m(path, mode, destpath, encoding, newline)\u001b[0m\n\u001b[1;32m    267\u001b[0m \u001b[0;34m\u001b[0m\u001b[0m\n\u001b[1;32m    268\u001b[0m     \u001b[0mds\u001b[0m \u001b[0;34m=\u001b[0m \u001b[0mDataSource\u001b[0m\u001b[0;34m(\u001b[0m\u001b[0mdestpath\u001b[0m\u001b[0;34m)\u001b[0m\u001b[0;34m\u001b[0m\u001b[0;34m\u001b[0m\u001b[0m\n\u001b[0;32m--> 269\u001b[0;31m     \u001b[0;32mreturn\u001b[0m \u001b[0mds\u001b[0m\u001b[0;34m.\u001b[0m\u001b[0mopen\u001b[0m\u001b[0;34m(\u001b[0m\u001b[0mpath\u001b[0m\u001b[0;34m,\u001b[0m \u001b[0mmode\u001b[0m\u001b[0;34m,\u001b[0m \u001b[0mencoding\u001b[0m\u001b[0;34m=\u001b[0m\u001b[0mencoding\u001b[0m\u001b[0;34m,\u001b[0m \u001b[0mnewline\u001b[0m\u001b[0;34m=\u001b[0m\u001b[0mnewline\u001b[0m\u001b[0;34m)\u001b[0m\u001b[0;34m\u001b[0m\u001b[0;34m\u001b[0m\u001b[0m\n\u001b[0m\u001b[1;32m    270\u001b[0m \u001b[0;34m\u001b[0m\u001b[0m\n\u001b[1;32m    271\u001b[0m \u001b[0;34m\u001b[0m\u001b[0m\n",
      "\u001b[0;32m~/anaconda3/lib/python3.7/site-packages/numpy/lib/_datasource.py\u001b[0m in \u001b[0;36mopen\u001b[0;34m(self, path, mode, encoding, newline)\u001b[0m\n\u001b[1;32m    621\u001b[0m                                       encoding=encoding, newline=newline)\n\u001b[1;32m    622\u001b[0m         \u001b[0;32melse\u001b[0m\u001b[0;34m:\u001b[0m\u001b[0;34m\u001b[0m\u001b[0;34m\u001b[0m\u001b[0m\n\u001b[0;32m--> 623\u001b[0;31m             \u001b[0;32mraise\u001b[0m \u001b[0mIOError\u001b[0m\u001b[0;34m(\u001b[0m\u001b[0;34m\"%s not found.\"\u001b[0m \u001b[0;34m%\u001b[0m \u001b[0mpath\u001b[0m\u001b[0;34m)\u001b[0m\u001b[0;34m\u001b[0m\u001b[0;34m\u001b[0m\u001b[0m\n\u001b[0m\u001b[1;32m    624\u001b[0m \u001b[0;34m\u001b[0m\u001b[0m\n\u001b[1;32m    625\u001b[0m \u001b[0;34m\u001b[0m\u001b[0m\n",
      "\u001b[0;31mOSError\u001b[0m: testBathy.txt not found."
     ]
    }
   ],
   "source": [
    "# Loading data\n",
    "funwaveBathy = np.loadtxt(bathyFilePath) \n",
    "\n",
    "# Reversing FUNWAVE sign change, easier to work with\n",
    "bathy = -funwaveBathy\n",
    "[nGlob, mGlob] = funwaveBathy.shape\n",
    "\n",
    "# Constructing equispaced grid  \n",
    "x = np.arange(0,mGlob)*dx + x0\n",
    "y = np.arange(0,nGlob)*dy + y0\n",
    "\n",
    "# Computing stride based on max linear plot size\n",
    "nMax = max(nGlob,mGlob)\n",
    "stride = int(nMax/maxLinearPlotPoints)\n",
    "if ( stride < 1 ): stride = 1\n",
    "    \n",
    "nGlobPlot = int( nGlob/stride )\n",
    "mGlobPlot = int( mGlob/stride )\n",
    "\n",
    "print( \"Grid Dimensions: nGlob=%d, mGlob=%d, stride=%d\" % (nGlob, mGlob, stride) )\n",
    "print( \"Plot Dimensions: nGlob=%d, mGlob=%d\" % (nGlobPlot,mGlobPlot) )\n",
    "\n",
    "# Plotting topography/bathymetry\n",
    "fig, ax = plt.subplots()\n",
    "fig.set_size_inches(8, 8)\n",
    "\n",
    "\n",
    "plotBathy( ax, x, y, bathy, stride )"
   ]
  },
  {
   "cell_type": "markdown",
   "metadata": {},
   "source": [
    "# Breakwater Functions"
   ]
  },
  {
   "cell_type": "code",
   "execution_count": 385,
   "metadata": {},
   "outputs": [],
   "source": [
    "def getPrism( x0, y0, x, y, length, baseWidth, height, topWidthStartRel, mBack, cBack, topWidthEndRel, mFront, cFront, angle, angleRot, bottomBathy ):\n",
    "\n",
    "    [X,Y] = np.meshgrid(x,y)\n",
    "    \n",
    "    U = (X-x0)*np.cos(-angleRot) - (Y-y0)*np.sin(-angleRot)\n",
    "    V = (X-x0)*np.sin(-angleRot) + (Y-y0)*np.cos(-angleRot)\n",
    "    \n",
    "    sol = U*0\n",
    "\n",
    "    idxV = ( -length/2 < V  ) & ( V < length/2 )\n",
    "    \n",
    "    idxU = ( -baseWidth/2 <= U ) & ( U <= topWidthStartRel )\n",
    "    idx = idxV * idxU\n",
    "    sol[idx] = mBack*U[idx] + cBack\n",
    "    \n",
    "    idxU = ( topWidthStartRel <= U ) & ( U <= topWidthEndRel )\n",
    "    idx = idxV * idxU    \n",
    "    sol[idx] = height\n",
    "    \n",
    "    idxU = ( topWidthEndRel <= U ) & ( U <= baseWidth/2 )\n",
    "    idx = idxV * idxU    \n",
    "    sol[idx] = mFront*U[idx] + cFront\n",
    "    \n",
    "    sol = np.minimum( sol , height  ) \n",
    "    sol = np.maximum( sol , bottomBathy )\n",
    "     \n",
    "    return sol\n",
    "\n",
    "def getBaseShape( width , length, angleRot, x0, y0 ):\n",
    "    # Vertices of bottom of breakwater \n",
    "    vetrices = [\n",
    "        ( -width/2, -length/2 ),\n",
    "        (  width/2, -length/2 ),\n",
    "        (  width/2,  length/2 ),\n",
    "        ( -width/2,  length/2 )\n",
    "    ]\n",
    "\n",
    "    baseShape       = Polygon( vetrices )\n",
    "    rotShape        = shapely.affinity.rotate(baseShape, angleRot , origin='center', use_radians=True)\n",
    "    shiftedRotShape = shapely.affinity.translate(rotShape, xoff=x0, yoff=y0, zoff=0.0 )\n",
    "    \n",
    "    return shiftedRotShape\n",
    "\n",
    "def getBasePoints( shape , x , y ):\n",
    "    \n",
    "    idxs = [] \n",
    "    # Extracting indices or points in array\n",
    "    for j in range(len(y)):\n",
    "\n",
    "        for i in range(len(x)):\n",
    "\n",
    "            pt = Point( ( x[i] , y[j])  )\n",
    "\n",
    "            if shape.intersects( pt ):\n",
    "            #if shape.contains( pt ):\n",
    "                idxs.append( (j,i) )\n",
    "\n",
    "    # Converting from list of tuples indices, (j,i), to tuple \n",
    "    # of arrays, i.e, [ (j_0,i_0), (j_1,i_1), ..., (j_n,i_n) ] =>\n",
    "    #                 ( [j_0,j_1,...,j_n], [i_0,i_1,...,i_n] )\n",
    "    idxs = tuple(np.array(idxs).T)\n",
    "\n",
    "    return idxs\n",
    "\n",
    "def addBreakWater( breakwater, bathy ):\n",
    "    \n",
    "    x1 = breakwater['x1']\n",
    "    x2 = breakwater['x2']\n",
    "    y1 = breakwater['y1']\n",
    "    y2 = breakwater['y2']\n",
    "    \n",
    "    angle = np.arctan2( y2 - y1 , x2 - x1)\n",
    "    angleRot = angle - np.pi/2\n",
    "    length = ((x2-x1)**2 + (y2-y1)**2)**0.5\n",
    "    x0 = x1 + np.cos(angle)*length/2\n",
    "    y0 = y1 + np.sin(angle)*length/2\n",
    "\n",
    "    if 'angle' in breakwater.keys(): \n",
    "        print( '      Using parameter angle')\n",
    "        angleFront = breakwater['angle']*np.pi/180\n",
    "        angleBack= breakwater['angle']*np.pi/180\n",
    "        \n",
    "        isAngleDef = True\n",
    "        \n",
    "    elif 'angleFront' in breakwater.keys() or 'angleBack' in breakwater.keys():  \n",
    "        print( '      Using parameters angleFront and angleBack')\n",
    "        \n",
    "        if 'angleFront' in breakwater.keys() and 'angleBack' in breakwater.keys():\n",
    "            angleFront = breakwater['angleFront']*np.pi/180\n",
    "            angleBack = breakwater['angleBack']*np.pi/180            \n",
    "        elif 'angleFront' in breakwater.keys():\n",
    "            print( '         WARNING: angleBack not defined, setting angleFront to angleBack')\n",
    "            angleFront = breakwater['angleFront']*np.pi/180\n",
    "            angleBack = angleFront\n",
    "        else:\n",
    "            print( '         WARNING: angleFront not defined, setting angleFront to angleBack')\n",
    "            angleBack = breakwater['angleBack']*np.pi/180\n",
    "            angleFront = angleBack\n",
    "            \n",
    "        isAngleDef = True\n",
    "        \n",
    "    elif 'bottomWidth' in breakwater.keys() and 'topWidth' in breakwater.keys():\n",
    "        print( '      Using parameters bottomWidth and topWidth')\n",
    "        \n",
    "        bottomWidth = breakwater['bottomWidth'] \n",
    "        topWidth = breakwater['topWidth'] \n",
    "\n",
    "        isAngleDef = False\n",
    "        \n",
    "    else:\n",
    "        raise Exception(\"Additional parameters not fully defined\")\n",
    "    \n",
    "    def getHeight( bottomWidth ):\n",
    "        baseShape = getBaseShape( bottomWidth , length, angleRot, x0, y0  )\n",
    "        idxs = getBasePoints( baseShape , x , y )\n",
    "        minDepth = np.min( bathy[idxs] )\n",
    "        height = breakwater['heightAboveWater'] - minDepth           \n",
    "        return baseShape, height, idxs, minDepth\n",
    "  \n",
    "    if isAngleDef:\n",
    "        if 'bottomWidth' in breakwater.keys():\n",
    "            print( '      Using parameter bottomWidth')\n",
    "            bottomWidth = breakwater['bottomWidth']  \n",
    "\n",
    "            baseShape, height, idxs, minDepth = getHeight( bottomWidth ) \n",
    "\n",
    "        elif 'midWidth' in breakwater.keys(): \n",
    "            print( '      Using parameter midWidth')\n",
    "\n",
    "            midWidth = breakwater['midWidth']\n",
    "            bottomWidth = midWidth          \n",
    "            dBottomWidth = bottomWidth\n",
    "\n",
    "            for i in range(0,10): \n",
    "                baseShape, height, idxs, minDepth = getHeight( bottomWidth ) \n",
    "\n",
    "                frontWidth = 0.5*height/np.tan(angleFront)            \n",
    "                backWidth = 0.5*height/np.tan(angleBack)\n",
    "\n",
    "                tmpBottomWidth = midWidth + frontWidth + backWidth\n",
    "                dBottomWidth = tmpBottomWidth - bottomWidth\n",
    "                bottomWidth = tmpBottomWidth\n",
    "\n",
    "                error = abs(dBottomWidth)/bottomWidth\n",
    "\n",
    "\n",
    "                if (error < 10**-6 ):\n",
    "                    baseShape, height, idxs, minDepth = getHeight( bottomWidth )\n",
    "                    break\n",
    "\n",
    "\n",
    "        elif 'topWidth' in breakwater.keys():          \n",
    "            print( '      Using parameter topWidth')        \n",
    "            topWidth = breakwater['topWidth']\n",
    "            bottomWidth = topWidth          \n",
    "            dBottomWidth = bottomWidth\n",
    "\n",
    "            for i in range(0,10): \n",
    "                baseShape, height, idxs, minDepth = getHeight( bottomWidth ) \n",
    "\n",
    "                frontWidth = height/np.tan(angleFront)            \n",
    "                backWidth = height/np.tan(angleBack)\n",
    "\n",
    "                tmpBottomWidth = topWidth + frontWidth + backWidth\n",
    "                dBottomWidth = tmpBottomWidth - bottomWidth\n",
    "                bottomWidth = tmpBottomWidth\n",
    "\n",
    "                error = abs(dBottomWidth)/bottomWidth\n",
    "\n",
    "                if (error < 10**-6 ):\n",
    "                    baseShape, height, idxs, minDepth = getHeight( bottomWidth )\n",
    "                    break\n",
    "\n",
    "        else:\n",
    "            raise Exception(\"Reference width defined\")\n",
    "    else:\n",
    "        toeLength = (bottomWidth - topWidth)/2\n",
    "        baseShape, height, idxs, minDepth = getHeight( bottomWidth ) \n",
    "        \n",
    "        angleFront = np.arctan(height/toeLength)\n",
    "        angleBack = angleFront\n",
    "\n",
    "    frontWidth = height/np.tan(angleFront)            \n",
    "    backWidth = height/np.tan(angleBack)\n",
    "    topWidth = bottomWidth - (frontWidth+backWidth)\n",
    "    topWidthStartRel = -bottomWidth/2 + backWidth\n",
    "    topWidthEndRel = bottomWidth/2 - frontWidth\n",
    "\n",
    "    if topWidth <= 0:\n",
    "        raise Exception( 'Width at the top of the break water is negative, either decrease slope angle or increase reference width')\n",
    "\n",
    "    mBack = height/backWidth\n",
    "    cBack = (height*bottomWidth )/(2*backWidth)\n",
    "    \n",
    "    if abs(mBack) > 1:\n",
    "        print('      WARNING: Slope behind the breakwater is greater than 1 and may cause instabilities in FUNWAVE' )\n",
    "    \n",
    "    mFront = -height/frontWidth\n",
    "    cFront = (height*bottomWidth )/(2*frontWidth)   \n",
    "    \n",
    "    if abs(mFront) > 1:\n",
    "        print('      WARNING: Slope in front of the breakwater is greater than 1 and may cause instabilities in FUNWAVE' )\n",
    "    \n",
    "    if ( height > 0 ):\n",
    "        bottomBathy = np.zeros(bathy.shape)\n",
    "        bottomBathy[idxs] = bathy[idxs] - minDepth\n",
    "        \n",
    "        bathy[idxs] = minDepth\n",
    "        bathy += getPrism2( x0, y0, x, y, length, bottomWidth, height, topWidthStartRel, mBack, cBack, topWidthEndRel, mFront, cFront, angle, angleRot, bottomBathy )\n",
    "    else:\n",
    "        raise Exception('Height of breakwater above sea floor is negative, either change to position of the breakwater or increase the height above water level.' )"
   ]
  },
  {
   "cell_type": "markdown",
   "metadata": {},
   "source": [
    "# Adding breakwater to bathy \n",
    "<ol>\n",
    "    <li> Multiple break waters can be added by created seperated dictionary for each break water and adding them to a list </li>\n",
    "    <li> Breakwater can be defined in to main ways: through the top and bottom width of the breakwater, or through  slope angle(s)  and some reference width </li>\n",
    " </ol>\n",
    " \n",
    "## The required parameters for either methods are:\n",
    "<ol>\n",
    "    <li> x1, y1 - the coordinates of one endpoint of the breakwater </li>\n",
    "    <li> x2, y2 - the coordinate of the other endpoint of the breakwater </li>\n",
    "    <li> heightAboveWater - to height of the breakwater above sea level (negative values for submerged breakwaters) </li>\n",
    " </ol>\n",
    " \n",
    "## To define the breakwater through slope angle(s) the additional parameters are:\n",
    "<ol>\n",
    "    <li> The slope angle(s) which is/are either: </li>\n",
    "    <ol>\n",
    "        <li> A single slope angle \n",
    "            <ul>   \n",
    "                <li> angle - the slope angle in front and back of the breakwater </li>\n",
    "            </ul>   \n",
    "        </li>\n",
    "        <li> or two slope angles\n",
    "            <ul>   \n",
    "                <li> angleFront - the angle in front of the breakwater  </li>\n",
    "                <li> angleBack - the angle in behind of the breakwater  </li>\n",
    "            </ul>   \n",
    "        </li>\n",
    "    </ol>\n",
    "    <li> and a reference width which is either: </li>\n",
    "    <ol>\n",
    "        <li> topWidth - the width at the top of the breakwater </li>\n",
    "        <li> midWidth - the width at the middle of the breakwater (or average width of a flat bathymetry) </li>\n",
    "        <li> bottomWidth - the width at the bottom of the breakwater </li>\n",
    "    </ol>\n",
    "</ol>\n",
    "  \n",
    "## To define the breakwater the top and bottom width of the breakwater the additional parameters are:\n",
    "<ol>\n",
    "    <li> topWidth - the width at the top of the breakwater </li>\n",
    "    <li> bottomWidth - the width at the bottom of the breakwater </li>\n",
    "</ol>\n",
    "\n",
    "\n",
    "### Notes\n",
    "<ul>\n",
    "    <li> The order in which additional parameters are check for are: </li>\n",
    "    <ul>\n",
    "        <li> angle </li>\n",
    "        <li> angleFront and angleBack </li>\n",
    "        <li> topWdith and bottomWidth </li>\n",
    "    </ul>\n",
    "    and the breakwater will be genereated using the first parameter(s) that is/are found\n",
    "    <li> If only angleFront or angleBack are defined, the undefined parameter will be set to the defined parameter, i.e., defaults to the angle method </li>\n",
    "    <li> For the angle(s) methods, the reference widths will be checked in the following order </li>\n",
    "    <ul>\n",
    "        <li> bottomWidth </li>\n",
    "        <li> midWidth </li>\n",
    "        <li> topWidth </li>\n",
    "    </ul>\n",
    "    and the breakwater will be genereated using the first parameter that is found\n",
    "</ul>"
   ]
  },
  {
   "cell_type": "code",
   "execution_count": 387,
   "metadata": {},
   "outputs": [
    {
     "name": "stdout",
     "output_type": "stream",
     "text": [
      "Adding 1 breakwater(s) to bathymetry/topography\n",
      "   Breakwater 1\n",
      "      Using parameter angle\n",
      "      Using parameter midWidth\n"
     ]
    },
    {
     "data": {
      "image/png": "[encoded data removed]",
      "text/plain": [
       "<Figure size 720x720 with 4 Axes>"
      ]
     },
     "metadata": {
      "needs_background": "light"
     },
     "output_type": "display_data"
    }
   ],
   "source": [
    "breakWater1 = {\n",
    "    'x1'              : 40,\n",
    "    'y1'              :  5,\n",
    "    'x2'              : 40,\n",
    "    'y2'              : 45,\n",
    "    \"heightAboveWater\": -15,\n",
    "    \"bottomWidth\"     : 6,\n",
    "    \"topWidth\"        : 2     \n",
    "}\n",
    "\n",
    "breakWater1 = {\n",
    "    'x1'              : 30,\n",
    "    'y1'              :  5,\n",
    "    'x2'              : 30,\n",
    "    'y2'              : 25,\n",
    "    \"heightAboveWater\": 1,\n",
    "    \"midWidth\"        : 3,\n",
    "    'angle'           : 45\n",
    "#    'angleFront'      : 45,\n",
    "#    'angleBack'       : 80\n",
    "}\n",
    "\n",
    "\n",
    "# Adding breakwater dicts to a list \n",
    "breakWaters = [ breakWater1 ]\n",
    "\n",
    "# Copying original bathy to seperate varible \n",
    "bathyBreakwaters = bathy.copy()\n",
    "\n",
    "# Adding breakwater(s) to bathy \n",
    "nB = len(breakWaters)\n",
    "print( 'Adding %d breakwater(s) to bathymetry/topography' % nB )\n",
    "\n",
    "for i, breakwater in zip(range(nB),breakWaters):\n",
    "\n",
    "    print( '   Breakwater %d' % (i+1) )\n",
    "    addBreakWater( breakwater, bathyBreakwaters )\n",
    "\n",
    "\n",
    "fig, axs = plt.subplots(1,2)\n",
    "fig.set_size_inches(10, 10)\n",
    "axs=axs.flatten()\n",
    "plotBathy( axs[0], x, y, bathy, stride )\n",
    "plotBathy( axs[1], x, y, bathyBreakwaters, stride )\n"
   ]
  },
  {
   "cell_type": "code",
   "execution_count": 346,
   "metadata": {},
   "outputs": [
    {
     "data": {
      "image/png": "[encoded data removed]",
      "text/plain": [
       "<Figure size 720x720 with 2 Axes>"
      ]
     },
     "metadata": {
      "needs_background": "light"
     },
     "output_type": "display_data"
    }
   ],
   "source": [
    "fig, axs = plt.subplots(1,1)\n",
    "\n",
    "fig.set_size_inches(10, 10)\n",
    "\n",
    "\n",
    "idxX = ( 31 < x ) & ( x < 33)\n",
    "idxY = ( 24 < y ) & ( y < 28)\n",
    "\n",
    "\n",
    "test = bathyBreakwaters[:,idxX]\n",
    "test = test[idxY,:]\n",
    "plotBathy( axs, x[idxX], y[idxY], test, 1 )\n",
    "\n"
   ]
  },
  {
   "cell_type": "code",
   "execution_count": 370,
   "metadata": {},
   "outputs": [
    {
     "data": {
      "text/plain": [
       "[<matplotlib.lines.Line2D at 0x7f87f1db8c10>]"
      ]
     },
     "execution_count": 370,
     "metadata": {},
     "output_type": "execute_result"
    },
    {
     "data": {
      "image/png": "[encoded data removed]",
      "text/plain": [
       "<Figure size 432x288 with 1 Axes>"
      ]
     },
     "metadata": {
      "needs_background": "light"
     },
     "output_type": "display_data"
    }
   ],
   "source": [
    "\n",
    "idxX = ( 0 < x ) & ( x < 50 )\n",
    "plt.plot( x[idxX] , bathyBreakwaters[35,idxX])"
   ]
  },
  {
   "cell_type": "code",
   "execution_count": 311,
   "metadata": {},
   "outputs": [
    {
     "ename": "IndexError",
     "evalue": "index 301 is out of bounds for axis 1 with size 250",
     "output_type": "error",
     "traceback": [
      "\u001b[0;31m---------------------------------------------------------------------------\u001b[0m",
      "\u001b[0;31mIndexError\u001b[0m                                Traceback (most recent call last)",
      "\u001b[0;32m<ipython-input-311-93f6a747844a>\u001b[0m in \u001b[0;36m<module>\u001b[0;34m\u001b[0m\n\u001b[0;32m----> 1\u001b[0;31m \u001b[0mplt\u001b[0m\u001b[0;34m.\u001b[0m\u001b[0mplot\u001b[0m\u001b[0;34m(\u001b[0m \u001b[0my\u001b[0m \u001b[0;34m,\u001b[0m \u001b[0mbathyBreakwaters\u001b[0m\u001b[0;34m[\u001b[0m\u001b[0;34m:\u001b[0m\u001b[0;34m,\u001b[0m\u001b[0;36m301\u001b[0m\u001b[0;34m]\u001b[0m\u001b[0;34m)\u001b[0m\u001b[0;34m\u001b[0m\u001b[0;34m\u001b[0m\u001b[0m\n\u001b[0m\u001b[1;32m      2\u001b[0m \u001b[0mplt\u001b[0m\u001b[0;34m.\u001b[0m\u001b[0mplot\u001b[0m\u001b[0;34m(\u001b[0m \u001b[0my\u001b[0m \u001b[0;34m,\u001b[0m \u001b[0mbathyBreakwaters\u001b[0m\u001b[0;34m[\u001b[0m\u001b[0;34m:\u001b[0m\u001b[0;34m,\u001b[0m\u001b[0;36m302\u001b[0m\u001b[0;34m]\u001b[0m\u001b[0;34m)\u001b[0m\u001b[0;34m\u001b[0m\u001b[0;34m\u001b[0m\u001b[0m\n\u001b[1;32m      3\u001b[0m \u001b[0mplt\u001b[0m\u001b[0;34m.\u001b[0m\u001b[0mplot\u001b[0m\u001b[0;34m(\u001b[0m \u001b[0my\u001b[0m \u001b[0;34m,\u001b[0m \u001b[0mbathyBreakwaters\u001b[0m\u001b[0;34m[\u001b[0m\u001b[0;34m:\u001b[0m\u001b[0;34m,\u001b[0m\u001b[0;36m303\u001b[0m\u001b[0;34m]\u001b[0m\u001b[0;34m)\u001b[0m\u001b[0;34m\u001b[0m\u001b[0;34m\u001b[0m\u001b[0m\n\u001b[1;32m      4\u001b[0m \u001b[0mplt\u001b[0m\u001b[0;34m.\u001b[0m\u001b[0mplot\u001b[0m\u001b[0;34m(\u001b[0m \u001b[0my\u001b[0m \u001b[0;34m,\u001b[0m \u001b[0mbathyBreakwaters\u001b[0m\u001b[0;34m[\u001b[0m\u001b[0;34m:\u001b[0m\u001b[0;34m,\u001b[0m\u001b[0;36m304\u001b[0m\u001b[0;34m]\u001b[0m\u001b[0;34m)\u001b[0m\u001b[0;34m\u001b[0m\u001b[0;34m\u001b[0m\u001b[0m\n\u001b[1;32m      5\u001b[0m \u001b[0mplt\u001b[0m\u001b[0;34m.\u001b[0m\u001b[0mplot\u001b[0m\u001b[0;34m(\u001b[0m \u001b[0my\u001b[0m \u001b[0;34m,\u001b[0m \u001b[0mbathyBreakwaters\u001b[0m\u001b[0;34m[\u001b[0m\u001b[0;34m:\u001b[0m\u001b[0;34m,\u001b[0m\u001b[0;36m305\u001b[0m\u001b[0;34m]\u001b[0m\u001b[0;34m)\u001b[0m\u001b[0;34m\u001b[0m\u001b[0;34m\u001b[0m\u001b[0m\n",
      "\u001b[0;31mIndexError\u001b[0m: index 301 is out of bounds for axis 1 with size 250"
     ]
    }
   ],
   "source": [
    "\n",
    "plt.plot( y , bathyBreakwaters[:,301])\n",
    "plt.plot( y , bathyBreakwaters[:,302])\n",
    "plt.plot( y , bathyBreakwaters[:,303])\n",
    "plt.plot( y , bathyBreakwaters[:,304])\n",
    "plt.plot( y , bathyBreakwaters[:,305])\n",
    "plt.plot( y , bathyBreakwaters[:,306])\n",
    "plt.plot( y , bathyBreakwaters[:,307])"
   ]
  },
  {
   "cell_type": "markdown",
   "metadata": {},
   "source": [
    "# Saving FUNWAVE Bathy File"
   ]
  },
  {
   "cell_type": "code",
   "execution_count": null,
   "metadata": {},
   "outputs": [],
   "source": []
  },
  {
   "cell_type": "code",
   "execution_count": 163,
   "metadata": {},
   "outputs": [],
   "source": [
    "outputFilePath = 'bathyBreakwaters.txt'\n",
    "funwaveBathyBreakwaters= -bathyBreakwaters\n",
    "\n",
    "np.savetxt( outputFilePath, funwaveBathyBreakwaters)"
   ]
  },
  {
   "cell_type": "code",
   "execution_count": null,
   "metadata": {},
   "outputs": [],
   "source": []
  },
  {
   "cell_type": "code",
   "execution_count": null,
   "metadata": {},
   "outputs": [],
   "source": []
  }
 ],
 "metadata": {
  "kernelspec": {
   "display_name": "Python 3",
   "language": "python",
   "name": "python3"
  },
  "language_info": {
   "codemirror_mode": {
    "name": "ipython",
    "version": 3
   },
   "file_extension": ".py",
   "mimetype": "text/x-python",
   "name": "python",
   "nbconvert_exporter": "python",
   "pygments_lexer": "ipython3",
   "version": "3.7.4"
  }
 },
 "nbformat": 4,
 "nbformat_minor": 2
}
