{
 "cells": [
  {
   "cell_type": "markdown",
   "metadata": {},
   "source": [
    "# (1) Modules "
   ]
  },
  {
   "cell_type": "code",
   "execution_count": 1,
   "metadata": {},
   "outputs": [],
   "source": [
    "import numpy as np"
   ]
  },
  {
   "cell_type": "markdown",
   "metadata": {},
   "source": [
    "# (2) Input Parameters\n",
    "## Specify either frequency or period \n"
   ]
  },
  {
   "cell_type": "code",
   "execution_count": 2,
   "metadata": {},
   "outputs": [],
   "source": [
    "# Input Parameters \n",
    "frequency = None\n",
    "period = 14.3 \n",
    "depth = 40\n",
    "\n",
    "# Constant Parameters \n",
    "gravity = 9.81\n",
    "errorTolerance = 10**-12\n",
    "maxIterations = 20"
   ]
  },
  {
   "cell_type": "markdown",
   "metadata": {},
   "source": [
    "# (3) Computing derived parameters "
   ]
  },
  {
   "cell_type": "code",
   "execution_count": 3,
   "metadata": {},
   "outputs": [
    {
     "name": "stdout",
     "output_type": "stream",
     "text": [
      "Wave period specified.\n"
     ]
    }
   ],
   "source": [
    "# Checking if wave period or frequency are specified \n",
    "if   ( period is not None and frequency is not None ):\n",
    "    raise Exception( 'Both wave frequency and period are specified.')\n",
    "elif ( frequency is not None ): \n",
    "    w = frequency\n",
    "    T = 2*np.pi/w\n",
    "    print( 'Wave frequency specified.')\n",
    "elif ( period is not None ):\n",
    "    T = period\n",
    "    w = 2*np.pi/T\n",
    "    print( 'Wave period specified.')\n",
    "else:\n",
    "     raise Exception( 'Wave frequency nor period are specified.')\n",
    "    \n",
    "g = gravity \n",
    "h = depth"
   ]
  },
  {
   "cell_type": "markdown",
   "metadata": {},
   "source": [
    "# (4) Newton–Raphson iteration method for computing zero of dispersion relationship"
   ]
  },
  {
   "cell_type": "code",
   "execution_count": 4,
   "metadata": {},
   "outputs": [
    {
     "name": "stdout",
     "output_type": "stream",
     "text": [
      "Depth         : 40.000000\n",
      "Wave Period   : 14.300000\n",
      "Wave Frequency: 0.439384\n",
      "Wave Number   : 0.025541\n",
      "Wave Length   : 246.007888\n"
     ]
    }
   ],
   "source": [
    "# Dispersion relationship framed as a root problem\n",
    "def f(k,w,h,g):\n",
    "    return g*k*np.tanh(k*h) - w**2 \n",
    "\n",
    "# Derivative of dispersion relationship with respect to k\n",
    "def dfdk(k,w,h,g):\n",
    "    return g*(np.tanh(k*h) + h*k*np.cosh(k*h)**-2)\n",
    "\n",
    "# Initializing k for Newton–Raphson iteration method \n",
    "k = 1 \n",
    "\n",
    "\n",
    "# Performing iteration method\n",
    "for i in range(maxIterations):\n",
    "    \n",
    "    correction = -f(k,w,h,g)/dfdk(k,w,h,g)\n",
    "    \n",
    "    k += correction\n",
    "    \n",
    "    # Exiting loop if solution is found within specified error tolerance. \n",
    "    error = correction/k\n",
    "    if ( abs(error) < errorTolerance):\n",
    "        break\n",
    "    \n",
    "l = 2*np.pi/k\n",
    "\n",
    "# Printing values\n",
    "print('Depth         : %f' % h )\n",
    "print('Wave Period   : %f' % T )\n",
    "print('Wave Frequency: %f' % w )\n",
    "print('Wave Number   : %f' % k )\n",
    "print('Wave Length   : %f' % l )\n",
    "    \n",
    "if ( i == maxIterations - 1 ):\n",
    "    raise Exception( \"Max interations reached, solution may be accurate.\")\n"
   ]
  }
 ],
 "metadata": {
  "kernelspec": {
   "display_name": "Python 3",
   "language": "python",
   "name": "python3"
  },
  "language_info": {
   "codemirror_mode": {
    "name": "ipython",
    "version": 3
   },
   "file_extension": ".py",
   "mimetype": "text/x-python",
   "name": "python",
   "nbconvert_exporter": "python",
   "pygments_lexer": "ipython3",
   "version": "3.8.2"
  }
 },
 "nbformat": 4,
 "nbformat_minor": 4
}
